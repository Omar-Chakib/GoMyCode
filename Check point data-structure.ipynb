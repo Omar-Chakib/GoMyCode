{
 "cells": [
  {
   "cell_type": "code",
   "execution_count": 1,
   "id": "353dad6a",
   "metadata": {},
   "outputs": [
    {
     "name": "stdout",
     "output_type": "stream",
     "text": [
      "36\n"
     ]
    }
   ],
   "source": [
    "my_list = [2, 3, 6]\n",
    "result = 1  # Initialize the result with 1\n",
    "\n",
    "for item in my_list:\n",
    "    result *= item\n",
    "\n",
    "print(result)  # Output: 120\n"
   ]
  },
  {
   "cell_type": "code",
   "execution_count": 2,
   "id": "67c4c971",
   "metadata": {},
   "outputs": [
    {
     "name": "stdout",
     "output_type": "stream",
     "text": [
      "[(2, 1), (1, 2), (2, 3), (4, 4), (2, 5)]\n"
     ]
    }
   ],
   "source": [
    "def sort_list_by_last_element(tuples_list):\n",
    "    tuples_list.sort(key=lambda x: x[-1])\n",
    "\n",
    "\n",
    "sample_list = [(2, 5), (1, 2), (4, 4), (2, 3), (2, 1)]\n",
    "sort_list_by_last_element(sample_list)\n",
    "print(sample_list)\n"
   ]
  },
  {
   "cell_type": "code",
   "execution_count": 3,
   "id": "c4a96307",
   "metadata": {},
   "outputs": [
    {
     "name": "stdout",
     "output_type": "stream",
     "text": [
      "Enter a number: 8\n",
      "{1: 1, 2: 4, 3: 9, 4: 16, 5: 25, 6: 36, 7: 49, 8: 64}\n"
     ]
    }
   ],
   "source": [
    "def generate_square_dict(n):\n",
    "    square_dict = {}\n",
    "\n",
    "    for i in range(1, n+1):\n",
    "        square_dict[i] = i*i\n",
    "\n",
    "    return square_dict\n",
    "\n",
    "# Example usage\n",
    "n = int(input(\"Enter a number: \"))\n",
    "square_dict = generate_square_dict(n)\n",
    "print(square_dict)\n"
   ]
  },
  {
   "cell_type": "code",
   "execution_count": null,
   "id": "012d5f5d",
   "metadata": {},
   "outputs": [],
   "source": [
    "def sort_tuple_by_float(tuples_list):\n",
    "    sorted_list = []\n",
    "    for item in tuples_list:\n",
    "        sorted_list.append((item[0], float(item[1])))\n",
    "\n",
    "    sorted_list.sort(key=lambda x: x[1], reverse=True)\n",
    "    return sorted_list\n",
    "\n",
    "# Example usage\n",
    "my_list = [('item1', '12.20'), ('item2', '15.10'), ('item3', '24.5')]\n",
    "\n",
    "sorted_list = sort_tuple_by_float(my_list)\n",
    "print(sorted_list)\n"
   ]
  },
  {
   "cell_type": "code",
   "execution_count": 4,
   "id": "83c3e90f",
   "metadata": {},
   "outputs": [
    {
     "name": "stdout",
     "output_type": "stream",
     "text": [
      "{0, 1, 2, 3, 4}\n",
      "0\n",
      "1\n",
      "2\n",
      "3\n",
      "4\n",
      "{0, 1, 2, 3, 4, 5, 6}\n",
      "{0, 1, 3, 5, 6}\n"
     ]
    }
   ],
   "source": [
    "# Creating a set\n",
    "my_set = {0, 1, 2, 3, 4}\n",
    "print(my_set)\n",
    "\n",
    "# Iterating over a set\n",
    "for item in my_set:\n",
    "    print(item)\n",
    "\n",
    "# Adding members to a set\n",
    "my_set.add(5)\n",
    "my_set.add(6)\n",
    "print(my_set)\n",
    "\n",
    "# Removing items from a set\n",
    "my_set.remove(2)\n",
    "my_set.discard(4)\n",
    "print(my_set)\n"
   ]
  },
  {
   "cell_type": "code",
   "execution_count": null,
   "id": "8683a5cc",
   "metadata": {},
   "outputs": [],
   "source": []
  }
 ],
 "metadata": {
  "kernelspec": {
   "display_name": "Python 3 (ipykernel)",
   "language": "python",
   "name": "python3"
  },
  "language_info": {
   "codemirror_mode": {
    "name": "ipython",
    "version": 3
   },
   "file_extension": ".py",
   "mimetype": "text/x-python",
   "name": "python",
   "nbconvert_exporter": "python",
   "pygments_lexer": "ipython3",
   "version": "3.10.9"
  }
 },
 "nbformat": 4,
 "nbformat_minor": 5
}
